{
 "cells": [
  {
   "cell_type": "markdown",
   "id": "cbfcd474",
   "metadata": {},
   "source": [
    "# Data Science Tools and Ecosystem\n"
   ]
  },
  {
   "cell_type": "markdown",
   "id": "c3a8e6f1",
   "metadata": {},
   "source": [
    "Welcome to the Data Science Tools and Ecosystem notebook! In this notebook, we will explore various tools, languages, libraries, and development environments that are commonly used in the field of data science. We will provide an overview of the data science ecosystem, including popular languages for data analysis and open-source tools for development and exploration. By the end of this notebook, you will have a better understanding of the key components that make up the data science toolkit and how they contribute to the data analysis process. So let's dive in and explore the exciting world of data science tools together!\n"
   ]
  },
  {
   "cell_type": "markdown",
   "id": "fbb8eb77",
   "metadata": {},
   "source": [
    "Objectives:\n",
    "\n",
    "- List popular languages for Data Science.\n",
    "- Explain common data science libraries.\n",
    "- List popular Data Science Tools.\n",
    "- Demonstrate arithmetic expression evaluation in Python.\n"
   ]
  },
  {
   "cell_type": "markdown",
   "id": "a4e46ea1",
   "metadata": {},
   "source": [
    "Some of the popular languages that Data Scientists use are:\n",
    "1. Python\n",
    "2. R\n",
    "3. SQL\n"
   ]
  },
  {
   "cell_type": "markdown",
   "id": "b5b0bf49",
   "metadata": {},
   "source": [
    "Some of the commonly used libraries used by Data Scientists include:\n",
    "1. NumPy\n",
    "2. Pandas\n",
    "3. Matplotlib\n"
   ]
  },
  {
   "cell_type": "markdown",
   "id": "17e9c79a",
   "metadata": {},
   "source": [
    "| Data Science Tools |\n",
    "|-------------------|\n",
    "| Jupyter Notebook  |\n",
    "| RStudio           |\n",
    "| PyCharm           |\n"
   ]
  },
  {
   "cell_type": "markdown",
   "id": "bc23d687",
   "metadata": {},
   "source": [
    "### Examples of Arithmetic Expressions in Python\n"
   ]
  },
  {
   "cell_type": "code",
   "execution_count": 4,
   "id": "c43541b0",
   "metadata": {},
   "outputs": [
    {
     "name": "stdout",
     "output_type": "stream",
     "text": [
      "17\n"
     ]
    }
   ],
   "source": [
    "# This is a simple arithmetic expression to multiply then add integers\n",
    "result = (3 * 4) + 5\n",
    "print(result)"
   ]
  },
  {
   "cell_type": "code",
   "execution_count": 7,
   "id": "e0bebb63",
   "metadata": {},
   "outputs": [
    {
     "name": "stdout",
     "output_type": "stream",
     "text": [
      "3.3333333333333335\n"
     ]
    }
   ],
   "source": [
    "# This will convert 200 minutes to hours by dividing by 60\n",
    "minutes = 200\n",
    "hours = minutes / 60\n",
    "print(hours)"
   ]
  },
  {
   "cell_type": "markdown",
   "id": "e25811b9",
   "metadata": {},
   "source": [
    "## Author\n",
    "\n",
    "Mohd Abuzar Suhail"
   ]
  }
 ],
 "metadata": {
  "kernelspec": {
   "display_name": "Python 3 (ipykernel)",
   "language": "python",
   "name": "python3"
  },
  "language_info": {
   "codemirror_mode": {
    "name": "ipython",
    "version": 3
   },
   "file_extension": ".py",
   "mimetype": "text/x-python",
   "name": "python",
   "nbconvert_exporter": "python",
   "pygments_lexer": "ipython3",
   "version": "3.10.9"
  }
 },
 "nbformat": 4,
 "nbformat_minor": 5
}
